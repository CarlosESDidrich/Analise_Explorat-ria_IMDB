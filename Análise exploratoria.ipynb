{
 "cells": [
  {
   "cell_type": "markdown",
   "id": "0c464125",
   "metadata": {},
   "source": [
    "# Mini-Projeto DSA \n",
    "## Análise exploratória com SQL e Python\n"
   ]
  },
  {
   "cell_type": "markdown",
   "id": "d4ea62b4",
   "metadata": {},
   "source": [
    "Neste Mini-Projeto tem como função aprender mais sobre o básico da análise exploratória de dados usando Linguagem Python, Linguagem SQL e Banco de Dados SQLite. Usando dados reais disponíveis publicamente, dados sobre filmes no <a href=\"https://www.imdb.com/interfaces/\">IMDB</a>.\n",
    "\n",
    "Ao aplicar Análise Exploratória de Dados vamos responder a estas 10 perguntas:\n",
    "\n",
    "- 1- Quais São as Categorias de Filmes Mais Comuns no IMDB?\n",
    "- 2- Qual o Número de Títulos Por Gênero?\n",
    "- 3- Qual a Mediana de Avaliação dos Filmes Por Gênero?\n",
    "- 4- Qual a Mediana de Avaliação dos Filmes Em Relação ao Ano de Estréia?\n",
    "- 5- Qual o Número de Filmes Avaliados Por Gênero Em Relação ao Ano de Estréia?\n",
    "- 6- Qual o Filme Com Maior Tempo de Duração? Calcule os Percentis.\n",
    "- 7- Qual a Relação Entre Duração e Gênero?\n",
    "- 8- Qual o Número de Filmes Produzidos Por País?\n",
    "- 9- Quais São os Top 10 Melhores Filmes?\n",
    "- 10- Quais São os Top 10 Piores Filmes?"
   ]
  },
  {
   "cell_type": "markdown",
   "id": "13413f97",
   "metadata": {},
   "source": [
    "## Instala os pacotes"
   ]
  },
  {
   "cell_type": "code",
   "execution_count": 2,
   "id": "95c7b438",
   "metadata": {},
   "outputs": [],
   "source": [
    "!pip install -q imdb-sqlite\n",
    "!pip install -q pycountry"
   ]
  },
  {
   "cell_type": "markdown",
   "id": "b47be7a2",
   "metadata": {},
   "source": [
    "## Imports "
   ]
  },
  {
   "cell_type": "code",
   "execution_count": 1,
   "id": "6b455e70",
   "metadata": {},
   "outputs": [],
   "source": [
    "import re\n",
    "import time\n",
    "import sqlite3\n",
    "import pycountry\n",
    "import numpy as np\n",
    "import pandas as pd\n",
    "import matplotlib.pyplot as plt\n",
    "import seaborn as sns\n",
    "from matplotlib import cm\n",
    "from sklearn.feature_extraction.text import CountVectorizer\n",
    "import warnings\n",
    "warnings.filterwarnings(\"ignore\")\n",
    "sns.set_theme(style = \"whitegrid\")"
   ]
  },
  {
   "cell_type": "markdown",
   "id": "7ebb5f91",
   "metadata": {},
   "source": [
    "## Carregando dados "
   ]
  },
  {
   "cell_type": "code",
   "execution_count": 5,
   "id": "88317f88",
   "metadata": {},
   "outputs": [
    {
     "name": "stdout",
     "output_type": "stream",
     "text": [
      "CPU times: total: 859 ms\n",
      "Wall time: 1h 20min 43s\n"
     ]
    },
    {
     "name": "stderr",
     "output_type": "stream",
     "text": [
      "2022-10-03 10:08:19,119 GET https://datasets.imdbws.com/name.basics.tsv.gz -> downloads\\name.basics.tsv.gz\n",
      "2022-10-03 10:08:43,876 GET https://datasets.imdbws.com/title.basics.tsv.gz -> downloads\\title.basics.tsv.gz\n",
      "2022-10-03 10:09:02,833 GET https://datasets.imdbws.com/title.akas.tsv.gz -> downloads\\title.akas.tsv.gz\n",
      "2022-10-03 10:09:30,638 GET https://datasets.imdbws.com/title.principals.tsv.gz -> downloads\\title.principals.tsv.gz\n",
      "2022-10-03 10:10:10,202 GET https://datasets.imdbws.com/title.episode.tsv.gz -> downloads\\title.episode.tsv.gz\n",
      "2022-10-03 10:10:15,275 GET https://datasets.imdbws.com/title.ratings.tsv.gz -> downloads\\title.ratings.tsv.gz\n",
      "2022-10-03 10:10:16,985 Populating database: imdb.db\n",
      "2022-10-03 10:10:16,987 Applying schema\n",
      "2022-10-03 10:10:16,998 Importing file: downloads\\name.basics.tsv.gz\n",
      "2022-10-03 10:10:16,999 Reading number of rows ...\n",
      "2022-10-03 10:10:27,490 Inserting rows into table: people\n",
      "\n",
      "  0%|          | 0/11970635 [00:00<?, ? rows/s]\n",
      "  0%|          | 2580/11970635 [00:00<07:48, 25550.27 rows/s]\n",
      "  0%|          | 5386/11970635 [00:00<07:25, 26872.82 rows/s]\n",
      "  0%|          | 8074/11970635 [00:00<07:39, 26044.75 rows/s]\n",
      "  0%|          | 10729/11970635 [00:00<07:37, 26142.49 rows/s]\n",
      "  0%|          | 13437/11970635 [00:00<07:31, 26470.80 rows/s]\n",
      "  0%|          | 16332/11970635 [00:00<07:17, 27302.30 rows/s]\n",
      "  0%|          | 19209/11970635 [00:00<07:10, 27773.68 rows/s]\n",
      "  0%|          | 21989/11970635 [00:00<07:16, 27346.23 rows/s]\n",
      "  0%|          | 24726/11970635 [00:00<07:19, 27184.03 rows/s]\n",
      "  0%|          | 27549/11970635 [00:01<07:14, 27499.22 rows/s]\n",
      "  0%|          | 30974/11970635 [00:01<06:45, 29455.50 rows/s]\n",
      "  0%|          | 33922/11970635 [00:01<06:46, 29374.98 rows/s]\n",
      "  0%|          | 36861/11970635 [00:01<07:02, 28270.49 rows/s]\n",
      "  0%|          | 39697/11970635 [00:01<07:07, 27887.16 rows/s]\n",
      "  0%|          | 42741/11970635 [00:01<06:57, 28553.33 rows/s]\n",
      "  0%|          | 45603/11970635 [00:01<07:01, 28286.60 rows/s]\n",
      "  0%|          | 48436/11970635 [00:01<07:35, 26157.48 rows/s]\n",
      "  0%|          | 51084/11970635 [00:01<08:28, 23439.71 rows/s]\n",
      "  0%|          | 53493/11970635 [00:02<08:31, 23308.38 rows/s]\n",
      "  0%|          | 55868/11970635 [00:02<08:44, 22695.90 rows/s]\n",
      "  0%|          | 58266/11970635 [00:02<08:38, 22986.84 rows/s]\n",
      "  1%|          | 60716/11970635 [00:02<08:30, 23348.57 rows/s]\n",
      "  1%|          | 63275/11970635 [00:02<08:17, 23923.07 rows/s]\n",
      "  1%|          | 65723/11970635 [00:02<08:15, 24016.33 rows/s]\n",
      "  1%|          | 68627/11970635 [00:02<07:48, 25407.49 rows/s]\n",
      "  1%|          | 71788/11970635 [00:02<07:18, 27149.91 rows/s]\n",
      "  1%|          | 74515/11970635 [00:02<07:17, 27183.70 rows/s]\n",
      "  1%|          | 77241/11970635 [00:02<07:21, 26967.09 rows/s]\n",
      "  1%|          | 80006/11970635 [00:03<07:18, 27091.48 rows/s]\n",
      "  1%|          | 82720/11970635 [00:03<07:19, 27025.49 rows/s]\n",
      "  1%|          | 85426/11970635 [00:03<07:23, 26800.05 rows/s]\n"
     ]
    }
   ],
   "source": [
    "%%time\n",
    "!imdb-sqlite"
   ]
  },
  {
   "cell_type": "markdown",
   "id": "2b7f9230",
   "metadata": {},
   "source": [
    "## Conecta no banco de dados"
   ]
  },
  {
   "cell_type": "code",
   "execution_count": 2,
   "id": "6487141f",
   "metadata": {},
   "outputs": [],
   "source": [
    "conn = sqlite3.connect(\"imdb.db\")"
   ]
  },
  {
   "cell_type": "markdown",
   "id": "85f495df",
   "metadata": {},
   "source": [
    "## Extrai a lista de tabelas\n"
   ]
  },
  {
   "cell_type": "code",
   "execution_count": 3,
   "id": "f2e243cd",
   "metadata": {},
   "outputs": [
    {
     "data": {
      "text/plain": [
       "pandas.core.frame.DataFrame"
      ]
     },
     "execution_count": 3,
     "metadata": {},
     "output_type": "execute_result"
    }
   ],
   "source": [
    "tabelas = pd.read_sql_query(\"SELECT NAME AS 'Table_Name' FROM sqlite_master WHERE type = 'table'\", conn)\n",
    "type(tabelas)\n"
   ]
  },
  {
   "cell_type": "code",
   "execution_count": 4,
   "id": "c8948d53",
   "metadata": {},
   "outputs": [
    {
     "data": {
      "text/html": [
       "<div>\n",
       "<style scoped>\n",
       "    .dataframe tbody tr th:only-of-type {\n",
       "        vertical-align: middle;\n",
       "    }\n",
       "\n",
       "    .dataframe tbody tr th {\n",
       "        vertical-align: top;\n",
       "    }\n",
       "\n",
       "    .dataframe thead th {\n",
       "        text-align: right;\n",
       "    }\n",
       "</style>\n",
       "<table border=\"1\" class=\"dataframe\">\n",
       "  <thead>\n",
       "    <tr style=\"text-align: right;\">\n",
       "      <th></th>\n",
       "      <th>Table_Name</th>\n",
       "    </tr>\n",
       "  </thead>\n",
       "  <tbody>\n",
       "    <tr>\n",
       "      <th>0</th>\n",
       "      <td>people</td>\n",
       "    </tr>\n",
       "    <tr>\n",
       "      <th>1</th>\n",
       "      <td>titles</td>\n",
       "    </tr>\n",
       "    <tr>\n",
       "      <th>2</th>\n",
       "      <td>akas</td>\n",
       "    </tr>\n",
       "    <tr>\n",
       "      <th>3</th>\n",
       "      <td>crew</td>\n",
       "    </tr>\n",
       "    <tr>\n",
       "      <th>4</th>\n",
       "      <td>episodes</td>\n",
       "    </tr>\n",
       "  </tbody>\n",
       "</table>\n",
       "</div>"
      ],
      "text/plain": [
       "  Table_Name\n",
       "0     people\n",
       "1     titles\n",
       "2       akas\n",
       "3       crew\n",
       "4   episodes"
      ]
     },
     "execution_count": 4,
     "metadata": {},
     "output_type": "execute_result"
    }
   ],
   "source": [
    "tabelas.head()"
   ]
  },
  {
   "cell_type": "markdown",
   "id": "8b39c345",
   "metadata": {},
   "source": [
    "# Análise Exploratória\n"
   ]
  },
  {
   "cell_type": "markdown",
   "id": "ae73de00",
   "metadata": {},
   "source": [
    "## 1- Quais São as Categorias de Filmes Mais Comuns no IMDB?\n",
    "### Quais são os principais tipos (categorias) dos títulos (filmes)?"
   ]
  },
  {
   "cell_type": "markdown",
   "id": "4133c8c3",
   "metadata": {},
   "source": [
    "### Consulta no SQL"
   ]
  },
  {
   "cell_type": "code",
   "execution_count": 5,
   "id": "90dcf38a",
   "metadata": {},
   "outputs": [
    {
     "data": {
      "text/html": [
       "<div>\n",
       "<style scoped>\n",
       "    .dataframe tbody tr th:only-of-type {\n",
       "        vertical-align: middle;\n",
       "    }\n",
       "\n",
       "    .dataframe tbody tr th {\n",
       "        vertical-align: top;\n",
       "    }\n",
       "\n",
       "    .dataframe thead th {\n",
       "        text-align: right;\n",
       "    }\n",
       "</style>\n",
       "<table border=\"1\" class=\"dataframe\">\n",
       "  <thead>\n",
       "    <tr style=\"text-align: right;\">\n",
       "      <th></th>\n",
       "      <th>type</th>\n",
       "      <th>COUNT</th>\n",
       "    </tr>\n",
       "  </thead>\n",
       "  <tbody>\n",
       "    <tr>\n",
       "      <th>0</th>\n",
       "      <td>movie</td>\n",
       "      <td>622830</td>\n",
       "    </tr>\n",
       "    <tr>\n",
       "      <th>1</th>\n",
       "      <td>short</td>\n",
       "      <td>892396</td>\n",
       "    </tr>\n",
       "    <tr>\n",
       "      <th>2</th>\n",
       "      <td>tvEpisode</td>\n",
       "      <td>6990140</td>\n",
       "    </tr>\n",
       "    <tr>\n",
       "      <th>3</th>\n",
       "      <td>tvMiniSeries</td>\n",
       "      <td>45383</td>\n",
       "    </tr>\n",
       "    <tr>\n",
       "      <th>4</th>\n",
       "      <td>tvMovie</td>\n",
       "      <td>137748</td>\n",
       "    </tr>\n",
       "    <tr>\n",
       "      <th>5</th>\n",
       "      <td>tvPilot</td>\n",
       "      <td>2</td>\n",
       "    </tr>\n",
       "    <tr>\n",
       "      <th>6</th>\n",
       "      <td>tvSeries</td>\n",
       "      <td>231970</td>\n",
       "    </tr>\n",
       "    <tr>\n",
       "      <th>7</th>\n",
       "      <td>tvShort</td>\n",
       "      <td>10690</td>\n",
       "    </tr>\n",
       "    <tr>\n",
       "      <th>8</th>\n",
       "      <td>tvSpecial</td>\n",
       "      <td>38588</td>\n",
       "    </tr>\n",
       "    <tr>\n",
       "      <th>9</th>\n",
       "      <td>video</td>\n",
       "      <td>265766</td>\n",
       "    </tr>\n",
       "    <tr>\n",
       "      <th>10</th>\n",
       "      <td>videoGame</td>\n",
       "      <td>32384</td>\n",
       "    </tr>\n",
       "  </tbody>\n",
       "</table>\n",
       "</div>"
      ],
      "text/plain": [
       "            type    COUNT\n",
       "0          movie   622830\n",
       "1          short   892396\n",
       "2      tvEpisode  6990140\n",
       "3   tvMiniSeries    45383\n",
       "4        tvMovie   137748\n",
       "5        tvPilot        2\n",
       "6       tvSeries   231970\n",
       "7        tvShort    10690\n",
       "8      tvSpecial    38588\n",
       "9          video   265766\n",
       "10     videoGame    32384"
      ]
     },
     "metadata": {},
     "output_type": "display_data"
    }
   ],
   "source": [
    "consulta = '''SELECT type, COUNT(*) AS COUNT FROM titles GROUP BY type'''\n",
    "categorias = pd.read_sql_query(consulta, conn)\n",
    "display(categorias)"
   ]
  },
  {
   "cell_type": "markdown",
   "id": "0955cb9f",
   "metadata": {},
   "source": [
    "### Percentual das categorias"
   ]
  },
  {
   "cell_type": "code",
   "execution_count": 6,
   "id": "9b3bd401",
   "metadata": {},
   "outputs": [
    {
     "data": {
      "text/html": [
       "<div>\n",
       "<style scoped>\n",
       "    .dataframe tbody tr th:only-of-type {\n",
       "        vertical-align: middle;\n",
       "    }\n",
       "\n",
       "    .dataframe tbody tr th {\n",
       "        vertical-align: top;\n",
       "    }\n",
       "\n",
       "    .dataframe thead th {\n",
       "        text-align: right;\n",
       "    }\n",
       "</style>\n",
       "<table border=\"1\" class=\"dataframe\">\n",
       "  <thead>\n",
       "    <tr style=\"text-align: right;\">\n",
       "      <th></th>\n",
       "      <th>type</th>\n",
       "      <th>COUNT</th>\n",
       "      <th>percentual</th>\n",
       "    </tr>\n",
       "  </thead>\n",
       "  <tbody>\n",
       "    <tr>\n",
       "      <th>0</th>\n",
       "      <td>movie</td>\n",
       "      <td>622830</td>\n",
       "      <td>6.720295</td>\n",
       "    </tr>\n",
       "    <tr>\n",
       "      <th>1</th>\n",
       "      <td>short</td>\n",
       "      <td>892396</td>\n",
       "      <td>9.628894</td>\n",
       "    </tr>\n",
       "    <tr>\n",
       "      <th>2</th>\n",
       "      <td>tvEpisode</td>\n",
       "      <td>6990140</td>\n",
       "      <td>75.423152</td>\n",
       "    </tr>\n",
       "    <tr>\n",
       "      <th>3</th>\n",
       "      <td>tvMiniSeries</td>\n",
       "      <td>45383</td>\n",
       "      <td>0.489680</td>\n",
       "    </tr>\n",
       "    <tr>\n",
       "      <th>4</th>\n",
       "      <td>tvMovie</td>\n",
       "      <td>137748</td>\n",
       "      <td>1.486292</td>\n",
       "    </tr>\n",
       "    <tr>\n",
       "      <th>5</th>\n",
       "      <td>tvPilot</td>\n",
       "      <td>2</td>\n",
       "      <td>0.000022</td>\n",
       "    </tr>\n",
       "    <tr>\n",
       "      <th>6</th>\n",
       "      <td>tvSeries</td>\n",
       "      <td>231970</td>\n",
       "      <td>2.502941</td>\n",
       "    </tr>\n",
       "    <tr>\n",
       "      <th>7</th>\n",
       "      <td>tvShort</td>\n",
       "      <td>10690</td>\n",
       "      <td>0.115344</td>\n",
       "    </tr>\n",
       "    <tr>\n",
       "      <th>8</th>\n",
       "      <td>tvSpecial</td>\n",
       "      <td>38588</td>\n",
       "      <td>0.416362</td>\n",
       "    </tr>\n",
       "    <tr>\n",
       "      <th>9</th>\n",
       "      <td>video</td>\n",
       "      <td>265766</td>\n",
       "      <td>2.867598</td>\n",
       "    </tr>\n",
       "    <tr>\n",
       "      <th>10</th>\n",
       "      <td>videoGame</td>\n",
       "      <td>32384</td>\n",
       "      <td>0.349421</td>\n",
       "    </tr>\n",
       "  </tbody>\n",
       "</table>\n",
       "</div>"
      ],
      "text/plain": [
       "            type    COUNT  percentual\n",
       "0          movie   622830    6.720295\n",
       "1          short   892396    9.628894\n",
       "2      tvEpisode  6990140   75.423152\n",
       "3   tvMiniSeries    45383    0.489680\n",
       "4        tvMovie   137748    1.486292\n",
       "5        tvPilot        2    0.000022\n",
       "6       tvSeries   231970    2.502941\n",
       "7        tvShort    10690    0.115344\n",
       "8      tvSpecial    38588    0.416362\n",
       "9          video   265766    2.867598\n",
       "10     videoGame    32384    0.349421"
      ]
     },
     "metadata": {},
     "output_type": "display_data"
    }
   ],
   "source": [
    "categorias['percentual'] = (categorias['COUNT'] / categorias['COUNT'].sum()) * 100\n",
    "display(categorias)"
   ]
  },
  {
   "cell_type": "markdown",
   "id": "460d373c",
   "metadata": {},
   "source": [
    "\n",
    "### Filtragem das 3 categorias com mais títulos e 1 categoria com todo o restante"
   ]
  },
  {
   "cell_type": "code",
   "execution_count": 7,
   "id": "009e19c8",
   "metadata": {},
   "outputs": [],
   "source": [
    "# Cria um dicionário vazio\n",
    "others = {}\n",
    "\n",
    "# Filtra o percentual em 5% e soma o total\n",
    "others['COUNT'] = categorias[categorias['percentual'] < 5]['COUNT'].sum()\n",
    "\n",
    "# Grava o percentual\n",
    "others['percentual'] = categorias[categorias['percentual'] < 5]['percentual'].sum()\n",
    "\n",
    "# Ajusta o nome\n",
    "others['type'] = 'others'"
   ]
  },
  {
   "cell_type": "code",
   "execution_count": 8,
   "id": "eb062961",
   "metadata": {},
   "outputs": [
    {
     "data": {
      "text/plain": [
       "{'COUNT': 762531, 'percentual': 8.22765941399651, 'type': 'others'}"
      ]
     },
     "metadata": {},
     "output_type": "display_data"
    }
   ],
   "source": [
    "display(others)"
   ]
  },
  {
   "cell_type": "code",
   "execution_count": 9,
   "id": "b90ca4cd",
   "metadata": {},
   "outputs": [
    {
     "data": {
      "text/html": [
       "<div>\n",
       "<style scoped>\n",
       "    .dataframe tbody tr th:only-of-type {\n",
       "        vertical-align: middle;\n",
       "    }\n",
       "\n",
       "    .dataframe tbody tr th {\n",
       "        vertical-align: top;\n",
       "    }\n",
       "\n",
       "    .dataframe thead th {\n",
       "        text-align: right;\n",
       "    }\n",
       "</style>\n",
       "<table border=\"1\" class=\"dataframe\">\n",
       "  <thead>\n",
       "    <tr style=\"text-align: right;\">\n",
       "      <th></th>\n",
       "      <th>type</th>\n",
       "      <th>COUNT</th>\n",
       "      <th>percentual</th>\n",
       "    </tr>\n",
       "  </thead>\n",
       "  <tbody>\n",
       "    <tr>\n",
       "      <th>2</th>\n",
       "      <td>tvEpisode</td>\n",
       "      <td>6990140</td>\n",
       "      <td>75.423152</td>\n",
       "    </tr>\n",
       "    <tr>\n",
       "      <th>1</th>\n",
       "      <td>short</td>\n",
       "      <td>892396</td>\n",
       "      <td>9.628894</td>\n",
       "    </tr>\n",
       "    <tr>\n",
       "      <th>3</th>\n",
       "      <td>others</td>\n",
       "      <td>762531</td>\n",
       "      <td>8.227659</td>\n",
       "    </tr>\n",
       "    <tr>\n",
       "      <th>0</th>\n",
       "      <td>movie</td>\n",
       "      <td>622830</td>\n",
       "      <td>6.720295</td>\n",
       "    </tr>\n",
       "  </tbody>\n",
       "</table>\n",
       "</div>"
      ],
      "text/plain": [
       "        type    COUNT  percentual\n",
       "2  tvEpisode  6990140   75.423152\n",
       "1      short   892396    9.628894\n",
       "3     others   762531    8.227659\n",
       "0      movie   622830    6.720295"
      ]
     },
     "execution_count": 9,
     "metadata": {},
     "output_type": "execute_result"
    }
   ],
   "source": [
    "# Filtra o dataframe de resultado\n",
    "categorias = categorias[categorias['percentual'] > 5]\n",
    "\n",
    "# Append com o dataframe de outras categorias\n",
    "categorias = categorias.append(others, ignore_index = True)\n",
    "\n",
    "# Ordena o resultado\n",
    "categorias = categorias.sort_values(by = 'COUNT', ascending = False)\n",
    "\n",
    "# Visualiza\n",
    "categorias.head()"
   ]
  },
  {
   "cell_type": "markdown",
   "id": "dce9f8f0",
   "metadata": {},
   "source": [
    "### Visualização em Gráfico"
   ]
  },
  {
   "cell_type": "code",
   "execution_count": 10,
   "id": "1e4c4a1a",
   "metadata": {},
   "outputs": [],
   "source": [
    "# Ajusta os legendas\n",
    "labels = [str(categorias['type'][i])+' '+'['+str(round(categorias['percentual'][i],2)) +'%'+']' for i in categorias.index]"
   ]
  },
  {
   "cell_type": "code",
   "execution_count": 11,
   "id": "4f9dd9c4",
   "metadata": {},
   "outputs": [
    {
     "data": {
      "image/png": "[encoded data removed]",
      "text/plain": [
       "<Figure size 432x288 with 1 Axes>"
      ]
     },
     "metadata": {},
     "output_type": "display_data"
    }
   ],
   "source": [
    "# Plot\n",
    "cs = cm.Set3(np.arange(100))\n",
    "\n",
    "# Cria a figura\n",
    "f = plt.figure()\n",
    "\n",
    "# Pie Plot\n",
    "plt.pie(categorias['COUNT'], labeldistance = 1, radius = 3, colors = cs, wedgeprops = dict(width = 0.8))\n",
    "plt.legend(labels = labels, loc = 'center', prop = {'size':12})\n",
    "plt.title(\"Distribuição de Títulos\", loc = 'Center', fontdict = {'fontsize':20,'fontweight':20})\n",
    "plt.show()"
   ]
  },
  {
   "cell_type": "markdown",
   "id": "b11d4d33",
   "metadata": {},
   "source": [
    "## 2- Qual o Número de Títulos Por Gênero?\n",
    "### Vamos calcular o número de filmes por gênero em valor percentual."
   ]
  },
  {
   "cell_type": "markdown",
   "id": "5af45bde",
   "metadata": {},
   "source": [
    "### Consulta SQL"
   ]
  },
  {
   "cell_type": "code",
   "execution_count": 12,
   "id": "366ad3b8",
   "metadata": {},
   "outputs": [
    {
     "data": {
      "text/html": [
       "<div>\n",
       "<style scoped>\n",
       "    .dataframe tbody tr th:only-of-type {\n",
       "        vertical-align: middle;\n",
       "    }\n",
       "\n",
       "    .dataframe tbody tr th {\n",
       "        vertical-align: top;\n",
       "    }\n",
       "\n",
       "    .dataframe thead th {\n",
       "        text-align: right;\n",
       "    }\n",
       "</style>\n",
       "<table border=\"1\" class=\"dataframe\">\n",
       "  <thead>\n",
       "    <tr style=\"text-align: right;\">\n",
       "      <th></th>\n",
       "      <th>genres</th>\n",
       "      <th>COUNT(*)</th>\n",
       "    </tr>\n",
       "  </thead>\n",
       "  <tbody>\n",
       "    <tr>\n",
       "      <th>0</th>\n",
       "      <td>Action</td>\n",
       "      <td>14196</td>\n",
       "    </tr>\n",
       "    <tr>\n",
       "      <th>1</th>\n",
       "      <td>Action,Adult</td>\n",
       "      <td>11</td>\n",
       "    </tr>\n",
       "    <tr>\n",
       "      <th>2</th>\n",
       "      <td>Action,Adult,Adventure</td>\n",
       "      <td>2</td>\n",
       "    </tr>\n",
       "    <tr>\n",
       "      <th>3</th>\n",
       "      <td>Action,Adult,Comedy</td>\n",
       "      <td>6</td>\n",
       "    </tr>\n",
       "    <tr>\n",
       "      <th>4</th>\n",
       "      <td>Action,Adult,Crime</td>\n",
       "      <td>9</td>\n",
       "    </tr>\n",
       "    <tr>\n",
       "      <th>...</th>\n",
       "      <td>...</td>\n",
       "      <td>...</td>\n",
       "    </tr>\n",
       "    <tr>\n",
       "      <th>1463</th>\n",
       "      <td>Thriller,Western</td>\n",
       "      <td>42</td>\n",
       "    </tr>\n",
       "    <tr>\n",
       "      <th>1464</th>\n",
       "      <td>War</td>\n",
       "      <td>1315</td>\n",
       "    </tr>\n",
       "    <tr>\n",
       "      <th>1465</th>\n",
       "      <td>War,Western</td>\n",
       "      <td>14</td>\n",
       "    </tr>\n",
       "    <tr>\n",
       "      <th>1466</th>\n",
       "      <td>Western</td>\n",
       "      <td>5156</td>\n",
       "    </tr>\n",
       "    <tr>\n",
       "      <th>1467</th>\n",
       "      <td>\\N</td>\n",
       "      <td>71858</td>\n",
       "    </tr>\n",
       "  </tbody>\n",
       "</table>\n",
       "<p>1468 rows × 2 columns</p>\n",
       "</div>"
      ],
      "text/plain": [
       "                      genres  COUNT(*)\n",
       "0                     Action     14196\n",
       "1               Action,Adult        11\n",
       "2     Action,Adult,Adventure         2\n",
       "3        Action,Adult,Comedy         6\n",
       "4         Action,Adult,Crime         9\n",
       "...                      ...       ...\n",
       "1463        Thriller,Western        42\n",
       "1464                     War      1315\n",
       "1465             War,Western        14\n",
       "1466                 Western      5156\n",
       "1467                      \\N     71858\n",
       "\n",
       "[1468 rows x 2 columns]"
      ]
     },
     "metadata": {},
     "output_type": "display_data"
    }
   ],
   "source": [
    "generos = '''SELECT genres, COUNT(*) FROM titles WHERE type = 'movie' GROUP BY genres''' \n",
    "generos = pd.read_sql_query(generos, conn)\n",
    "display(generos)"
   ]
  },
  {
   "cell_type": "code",
   "execution_count": 13,
   "id": "5e54aa5f",
   "metadata": {},
   "outputs": [],
   "source": [
    "# Convertendo strings para minúsculo\n",
    "generos['genres'] = generos['genres'].str.lower().values"
   ]
  },
  {
   "cell_type": "code",
   "execution_count": 14,
   "id": "d15a1c1e",
   "metadata": {},
   "outputs": [],
   "source": [
    "# dropa NA\n",
    "noNA = generos['genres'].dropna()"
   ]
  },
  {
   "cell_type": "markdown",
   "id": "06b7690a",
   "metadata": {},
   "source": [
    "### Usando a função Countvectorizer para converter a coluna de gênero em um vetor one-hot encoded para contar os números de filmes em cada gêncero."
   ]
  },
  {
   "cell_type": "code",
   "execution_count": 16,
   "id": "f4c74e65",
   "metadata": {},
   "outputs": [],
   "source": [
    "# Vamos criar um vetor usando expressão regular para filtrar as strings\n",
    "# https://docs.python.org/3.8/library/re.html\n",
    "padrao = '(?u)\\\\b[\\\\w-]+\\\\b'\n",
    "\n",
    "# https://scikit-learn.org/stable/modules/generated/sklearn.feature_extraction.text.CountVectorizer.html\n",
    "vetor = CountVectorizer(token_pattern = padrao, analyzer = 'word').fit(noNA)"
   ]
  },
  {
   "cell_type": "code",
   "execution_count": 17,
   "id": "efe15e29",
   "metadata": {},
   "outputs": [],
   "source": [
    "# Aplica a vetorização ao dataset sem valores NA\n",
    "bag_generos = vetor.transform(noNA)"
   ]
  },
  {
   "cell_type": "code",
   "execution_count": 24,
   "id": "4707fcfd",
   "metadata": {},
   "outputs": [
    {
     "name": "stdout",
     "output_type": "stream",
     "text": [
      "<class 'pandas.core.frame.DataFrame'>\n",
      "Int64Index: 1468 entries, 0 to 1467\n",
      "Data columns (total 29 columns):\n",
      " #   Column       Non-Null Count  Dtype\n",
      "---  ------       --------------  -----\n",
      " 0   action       1468 non-null   int64\n",
      " 1   adult        1468 non-null   int64\n",
      " 2   adventure    1468 non-null   int64\n",
      " 3   animation    1468 non-null   int64\n",
      " 4   biography    1468 non-null   int64\n",
      " 5   comedy       1468 non-null   int64\n",
      " 6   crime        1468 non-null   int64\n",
      " 7   documentary  1468 non-null   int64\n",
      " 8   drama        1468 non-null   int64\n",
      " 9   family       1468 non-null   int64\n",
      " 10  fantasy      1468 non-null   int64\n",
      " 11  film-noir    1468 non-null   int64\n",
      " 12  game-show    1468 non-null   int64\n",
      " 13  history      1468 non-null   int64\n",
      " 14  horror       1468 non-null   int64\n",
      " 15  music        1468 non-null   int64\n",
      " 16  musical      1468 non-null   int64\n",
      " 17  mystery      1468 non-null   int64\n",
      " 18  n            1468 non-null   int64\n",
      " 19  news         1468 non-null   int64\n",
      " 20  reality-tv   1468 non-null   int64\n",
      " 21  romance      1468 non-null   int64\n",
      " 22  sci-fi       1468 non-null   int64\n",
      " 23  short        1468 non-null   int64\n",
      " 24  sport        1468 non-null   int64\n",
      " 25  talk-show    1468 non-null   int64\n",
      " 26  thriller     1468 non-null   int64\n",
      " 27  war          1468 non-null   int64\n",
      " 28  western      1468 non-null   int64\n",
      "dtypes: int64(29)\n",
      "memory usage: 344.1 KB\n"
     ]
    }
   ],
   "source": [
    "# Retorna gêneros\n",
    "generos_unicos =  vetor.get_feature_names()\n",
    "generos = pd.DataFrame(bag_generos.todense(), columns = generos_unicos, index = noNA.index)\n",
    "generos.info()"
   ]
  },
  {
   "cell_type": "code",
   "execution_count": 25,
   "id": "896af494",
   "metadata": {},
   "outputs": [
    {
     "name": "stdout",
     "output_type": "stream",
     "text": [
      "<class 'pandas.core.frame.DataFrame'>\n",
      "Int64Index: 1468 entries, 0 to 1467\n",
      "Data columns (total 28 columns):\n",
      " #   Column       Non-Null Count  Dtype\n",
      "---  ------       --------------  -----\n",
      " 0   action       1468 non-null   int64\n",
      " 1   adult        1468 non-null   int64\n",
      " 2   adventure    1468 non-null   int64\n",
      " 3   animation    1468 non-null   int64\n",
      " 4   biography    1468 non-null   int64\n",
      " 5   comedy       1468 non-null   int64\n",
      " 6   crime        1468 non-null   int64\n",
      " 7   documentary  1468 non-null   int64\n",
      " 8   drama        1468 non-null   int64\n",
      " 9   family       1468 non-null   int64\n",
      " 10  fantasy      1468 non-null   int64\n",
      " 11  film-noir    1468 non-null   int64\n",
      " 12  game-show    1468 non-null   int64\n",
      " 13  history      1468 non-null   int64\n",
      " 14  horror       1468 non-null   int64\n",
      " 15  music        1468 non-null   int64\n",
      " 16  musical      1468 non-null   int64\n",
      " 17  mystery      1468 non-null   int64\n",
      " 18  news         1468 non-null   int64\n",
      " 19  reality-tv   1468 non-null   int64\n",
      " 20  romance      1468 non-null   int64\n",
      " 21  sci-fi       1468 non-null   int64\n",
      " 22  short        1468 non-null   int64\n",
      " 23  sport        1468 non-null   int64\n",
      " 24  talk-show    1468 non-null   int64\n",
      " 25  thriller     1468 non-null   int64\n",
      " 26  war          1468 non-null   int64\n",
      " 27  western      1468 non-null   int64\n",
      "dtypes: int64(28)\n",
      "memory usage: 332.6 KB\n"
     ]
    }
   ],
   "source": [
    "# Coluna n drop\n",
    "generos = generos.drop(columns = 'n', axis = 0)\n",
    "generos.info()"
   ]
  },
  {
   "cell_type": "code",
   "execution_count": 27,
   "id": "0f1bcd23",
   "metadata": {},
   "outputs": [
    {
     "data": {
      "text/plain": [
       "drama          17.915531\n",
       "comedy         17.029973\n",
       "documentary    16.008174\n",
       "adventure      14.782016\n",
       "action         14.509537\n",
       "romance        13.283379\n",
       "crime          13.010899\n",
       "mystery        12.329700\n",
       "thriller       12.261580\n",
       "horror         12.193460\n",
       "dtype: float64"
      ]
     },
     "execution_count": 27,
     "metadata": {},
     "output_type": "execute_result"
    }
   ],
   "source": [
    "# Percentual de generos de filmes\n",
    "generos_percentual = 100 * pd.Series(generos.sum()).sort_values(ascending = False) / generos.shape[0]\n",
    "generos_percentual.head(10)"
   ]
  },
  {
   "cell_type": "markdown",
   "id": "e1e0140e",
   "metadata": {},
   "source": [
    "### Vizualização gráfico"
   ]
  },
  {
   "cell_type": "code",
   "execution_count": 28,
   "id": "f07304a4",
   "metadata": {},
   "outputs": [
    {
     "data": {
      "image/png": "[encoded data removed]",
      "text/plain": [
       "<Figure size 1152x576 with 1 Axes>"
      ]
     },
     "metadata": {},
     "output_type": "display_data"
    }
   ],
   "source": [
    "# Plot\n",
    "plt.figure(figsize = (16,8))\n",
    "sns.barplot(x = generos_percentual.values, y = generos_percentual.index, orient = \"h\", palette = \"terrain\")\n",
    "plt.ylabel('Gênero')             \n",
    "plt.xlabel(\"\\nPercentual de Filmes (%)\")\n",
    "plt.title('\\nNúmero (Percentual) de Títulos Por Gênero\\n')\n",
    "plt.show()"
   ]
  },
  {
   "cell_type": "markdown",
   "id": "719f6f9d",
   "metadata": {},
   "source": [
    "## 3- Qual a Mediana de Avaliação dos Filmes Por Gênero?\n",
    "### Mediana de avaliação dos filmes."
   ]
  },
  {
   "cell_type": "markdown",
   "id": "8cddfba9",
   "metadata": {},
   "source": [
    "### Consulta no SQL"
   ]
  },
  {
   "cell_type": "code",
   "execution_count": 32,
   "id": "45249b06",
   "metadata": {},
   "outputs": [
    {
     "data": {
      "text/html": [
       "<div>\n",
       "<style scoped>\n",
       "    .dataframe tbody tr th:only-of-type {\n",
       "        vertical-align: middle;\n",
       "    }\n",
       "\n",
       "    .dataframe tbody tr th {\n",
       "        vertical-align: top;\n",
       "    }\n",
       "\n",
       "    .dataframe thead th {\n",
       "        text-align: right;\n",
       "    }\n",
       "</style>\n",
       "<table border=\"1\" class=\"dataframe\">\n",
       "  <thead>\n",
       "    <tr style=\"text-align: right;\">\n",
       "      <th></th>\n",
       "      <th>rating</th>\n",
       "      <th>genres</th>\n",
       "    </tr>\n",
       "  </thead>\n",
       "  <tbody>\n",
       "    <tr>\n",
       "      <th>0</th>\n",
       "      <td>5.2</td>\n",
       "      <td>Romance</td>\n",
       "    </tr>\n",
       "    <tr>\n",
       "      <th>1</th>\n",
       "      <td>3.7</td>\n",
       "      <td>\\N</td>\n",
       "    </tr>\n",
       "    <tr>\n",
       "      <th>2</th>\n",
       "      <td>6.0</td>\n",
       "      <td>Action,Adventure,Biography</td>\n",
       "    </tr>\n",
       "    <tr>\n",
       "      <th>3</th>\n",
       "      <td>4.0</td>\n",
       "      <td>Drama</td>\n",
       "    </tr>\n",
       "    <tr>\n",
       "      <th>4</th>\n",
       "      <td>4.1</td>\n",
       "      <td>Drama</td>\n",
       "    </tr>\n",
       "    <tr>\n",
       "      <th>...</th>\n",
       "      <td>...</td>\n",
       "      <td>...</td>\n",
       "    </tr>\n",
       "    <tr>\n",
       "      <th>282930</th>\n",
       "      <td>5.8</td>\n",
       "      <td>Thriller</td>\n",
       "    </tr>\n",
       "    <tr>\n",
       "      <th>282931</th>\n",
       "      <td>6.4</td>\n",
       "      <td>Drama,History</td>\n",
       "    </tr>\n",
       "    <tr>\n",
       "      <th>282932</th>\n",
       "      <td>3.8</td>\n",
       "      <td>Adventure,History,War</td>\n",
       "    </tr>\n",
       "    <tr>\n",
       "      <th>282933</th>\n",
       "      <td>8.3</td>\n",
       "      <td>Drama</td>\n",
       "    </tr>\n",
       "    <tr>\n",
       "      <th>282934</th>\n",
       "      <td>8.4</td>\n",
       "      <td>\\N</td>\n",
       "    </tr>\n",
       "  </tbody>\n",
       "</table>\n",
       "<p>282935 rows × 2 columns</p>\n",
       "</div>"
      ],
      "text/plain": [
       "        rating                      genres\n",
       "0          5.2                     Romance\n",
       "1          3.7                          \\N\n",
       "2          6.0  Action,Adventure,Biography\n",
       "3          4.0                       Drama\n",
       "4          4.1                       Drama\n",
       "...        ...                         ...\n",
       "282930     5.8                    Thriller\n",
       "282931     6.4               Drama,History\n",
       "282932     3.8       Adventure,History,War\n",
       "282933     8.3                       Drama\n",
       "282934     8.4                          \\N\n",
       "\n",
       "[282935 rows x 2 columns]"
      ]
     },
     "metadata": {},
     "output_type": "display_data"
    }
   ],
   "source": [
    "avaliacao = '''\n",
    "            SELECT rating, genres FROM \n",
    "            ratings JOIN titles ON ratings.title_id = titles.title_id \n",
    "            WHERE premiered <= 2022 AND type = 'movie'\n",
    "            ''' \n",
    "avaliacao = pd.read_sql_query(avaliacao, conn)\n",
    "display(avaliacao)"
   ]
  },
  {
   "cell_type": "markdown",
   "id": "c1540086",
   "metadata": {},
   "source": [
    "### Função para retornar os genêros"
   ]
  },
  {
   "cell_type": "code",
   "execution_count": 30,
   "id": "4a45dd47",
   "metadata": {},
   "outputs": [],
   "source": [
    "\n",
    "def retorna_generos(df):\n",
    "    df['genres'] = df['genres'].str.lower().values\n",
    "    temp = df['genres'].dropna()\n",
    "    vetor = CountVectorizer(token_pattern = '(?u)\\\\b[\\\\w-]+\\\\b', analyzer = 'word').fit(temp)\n",
    "    generos_unicos =  vetor.get_feature_names()\n",
    "    generos_unicos = [genre for genre in generos_unicos if len(genre) > 1]\n",
    "    return generos_unicos"
   ]
  },
  {
   "cell_type": "code",
   "execution_count": 37,
   "id": "65a438ab",
   "metadata": {},
   "outputs": [
    {
     "data": {
      "text/plain": [
       "['action',\n",
       " 'adult',\n",
       " 'adventure',\n",
       " 'animation',\n",
       " 'biography',\n",
       " 'comedy',\n",
       " 'crime',\n",
       " 'documentary',\n",
       " 'drama',\n",
       " 'family',\n",
       " 'fantasy',\n",
       " 'film-noir',\n",
       " 'game-show',\n",
       " 'history',\n",
       " 'horror',\n",
       " 'music',\n",
       " 'musical',\n",
       " 'mystery',\n",
       " 'news',\n",
       " 'reality-tv',\n",
       " 'romance',\n",
       " 'sci-fi',\n",
       " 'short',\n",
       " 'sport',\n",
       " 'talk-show',\n",
       " 'thriller',\n",
       " 'war',\n",
       " 'western']"
      ]
     },
     "execution_count": 37,
     "metadata": {},
     "output_type": "execute_result"
    }
   ],
   "source": [
    "generos_unicos = retorna_generos(avaliacao)\n",
    "generos_unicos"
   ]
  },
  {
   "cell_type": "code",
   "execution_count": 39,
   "id": "52d8b574",
   "metadata": {},
   "outputs": [],
   "source": [
    "# Cria listas vazias\n",
    "genero_counts = []\n",
    "genero_ratings = []\n",
    "\n",
    "# Loop\n",
    "for item in generos_unicos:\n",
    "    \n",
    "    # Retorna a contagem de filmes por gênero\n",
    "    consulta = 'SELECT COUNT(rating) FROM ratings JOIN titles ON ratings.title_id=titles.title_id WHERE genres LIKE '+ '\\''+'%'+item+'%'+'\\' AND type=\\'movie\\''\n",
    "    resultado = pd.read_sql_query(consulta, conn)\n",
    "    genero_counts.append(resultado.values[0][0])\n",
    "  \n",
    "     # Retorna a avaliação de filmes por gênero\n",
    "    consulta = 'SELECT rating FROM ratings JOIN titles ON ratings.title_id=titles.title_id WHERE genres LIKE '+ '\\''+'%'+item+'%'+'\\' AND type=\\'movie\\''\n",
    "    resultado = pd.read_sql_query(consulta, conn)\n",
    "    #calcula mediana\n",
    "    genero_ratings.append(np.median(resultado['rating']))"
   ]
  },
  {
   "cell_type": "code",
   "execution_count": 42,
   "id": "08ce0b73",
   "metadata": {},
   "outputs": [
    {
     "data": {
      "text/html": [
       "<div>\n",
       "<style scoped>\n",
       "    .dataframe tbody tr th:only-of-type {\n",
       "        vertical-align: middle;\n",
       "    }\n",
       "\n",
       "    .dataframe tbody tr th {\n",
       "        vertical-align: top;\n",
       "    }\n",
       "\n",
       "    .dataframe thead th {\n",
       "        text-align: right;\n",
       "    }\n",
       "</style>\n",
       "<table border=\"1\" class=\"dataframe\">\n",
       "  <thead>\n",
       "    <tr style=\"text-align: right;\">\n",
       "      <th></th>\n",
       "      <th>genres</th>\n",
       "      <th>count</th>\n",
       "      <th>rating</th>\n",
       "    </tr>\n",
       "  </thead>\n",
       "  <tbody>\n",
       "    <tr>\n",
       "      <th>0</th>\n",
       "      <td>action</td>\n",
       "      <td>29288</td>\n",
       "      <td>5.80</td>\n",
       "    </tr>\n",
       "    <tr>\n",
       "      <th>1</th>\n",
       "      <td>adult</td>\n",
       "      <td>4417</td>\n",
       "      <td>5.80</td>\n",
       "    </tr>\n",
       "    <tr>\n",
       "      <th>2</th>\n",
       "      <td>adventure</td>\n",
       "      <td>17707</td>\n",
       "      <td>6.00</td>\n",
       "    </tr>\n",
       "    <tr>\n",
       "      <th>3</th>\n",
       "      <td>animation</td>\n",
       "      <td>4858</td>\n",
       "      <td>6.60</td>\n",
       "    </tr>\n",
       "    <tr>\n",
       "      <th>4</th>\n",
       "      <td>biography</td>\n",
       "      <td>8655</td>\n",
       "      <td>7.00</td>\n",
       "    </tr>\n",
       "    <tr>\n",
       "      <th>5</th>\n",
       "      <td>comedy</td>\n",
       "      <td>69817</td>\n",
       "      <td>6.00</td>\n",
       "    </tr>\n",
       "    <tr>\n",
       "      <th>6</th>\n",
       "      <td>crime</td>\n",
       "      <td>24233</td>\n",
       "      <td>6.10</td>\n",
       "    </tr>\n",
       "    <tr>\n",
       "      <th>7</th>\n",
       "      <td>documentary</td>\n",
       "      <td>42614</td>\n",
       "      <td>7.30</td>\n",
       "    </tr>\n",
       "    <tr>\n",
       "      <th>8</th>\n",
       "      <td>drama</td>\n",
       "      <td>125413</td>\n",
       "      <td>6.30</td>\n",
       "    </tr>\n",
       "    <tr>\n",
       "      <th>9</th>\n",
       "      <td>family</td>\n",
       "      <td>10889</td>\n",
       "      <td>6.30</td>\n",
       "    </tr>\n",
       "    <tr>\n",
       "      <th>10</th>\n",
       "      <td>fantasy</td>\n",
       "      <td>8409</td>\n",
       "      <td>6.00</td>\n",
       "    </tr>\n",
       "    <tr>\n",
       "      <th>11</th>\n",
       "      <td>film-noir</td>\n",
       "      <td>834</td>\n",
       "      <td>6.50</td>\n",
       "    </tr>\n",
       "    <tr>\n",
       "      <th>12</th>\n",
       "      <td>game-show</td>\n",
       "      <td>6</td>\n",
       "      <td>7.85</td>\n",
       "    </tr>\n",
       "    <tr>\n",
       "      <th>13</th>\n",
       "      <td>history</td>\n",
       "      <td>7836</td>\n",
       "      <td>6.90</td>\n",
       "    </tr>\n",
       "    <tr>\n",
       "      <th>14</th>\n",
       "      <td>horror</td>\n",
       "      <td>20229</td>\n",
       "      <td>5.00</td>\n",
       "    </tr>\n",
       "    <tr>\n",
       "      <th>15</th>\n",
       "      <td>music</td>\n",
       "      <td>12843</td>\n",
       "      <td>6.50</td>\n",
       "    </tr>\n",
       "    <tr>\n",
       "      <th>16</th>\n",
       "      <td>musical</td>\n",
       "      <td>6281</td>\n",
       "      <td>6.20</td>\n",
       "    </tr>\n",
       "    <tr>\n",
       "      <th>17</th>\n",
       "      <td>mystery</td>\n",
       "      <td>10614</td>\n",
       "      <td>5.90</td>\n",
       "    </tr>\n",
       "    <tr>\n",
       "      <th>18</th>\n",
       "      <td>news</td>\n",
       "      <td>658</td>\n",
       "      <td>7.30</td>\n",
       "    </tr>\n",
       "    <tr>\n",
       "      <th>19</th>\n",
       "      <td>reality-tv</td>\n",
       "      <td>51</td>\n",
       "      <td>6.60</td>\n",
       "    </tr>\n",
       "  </tbody>\n",
       "</table>\n",
       "</div>"
      ],
      "text/plain": [
       "         genres   count  rating\n",
       "0        action   29288    5.80\n",
       "1         adult    4417    5.80\n",
       "2     adventure   17707    6.00\n",
       "3     animation    4858    6.60\n",
       "4     biography    8655    7.00\n",
       "5        comedy   69817    6.00\n",
       "6         crime   24233    6.10\n",
       "7   documentary   42614    7.30\n",
       "8         drama  125413    6.30\n",
       "9        family   10889    6.30\n",
       "10      fantasy    8409    6.00\n",
       "11    film-noir     834    6.50\n",
       "12    game-show       6    7.85\n",
       "13      history    7836    6.90\n",
       "14       horror   20229    5.00\n",
       "15        music   12843    6.50\n",
       "16      musical    6281    6.20\n",
       "17      mystery   10614    5.90\n",
       "18         news     658    7.30\n",
       "19   reality-tv      51    6.60"
      ]
     },
     "execution_count": 42,
     "metadata": {},
     "output_type": "execute_result"
    }
   ],
   "source": [
    "# Prepara o dataframe final\n",
    "df_genero_ratings = pd.DataFrame()\n",
    "df_genero_ratings['genres'] = generos_unicos\n",
    "df_genero_ratings['count'] = genero_counts\n",
    "df_genero_ratings['rating'] = genero_ratings\n",
    "\n",
    "df_genero_ratings.head(20)"
   ]
  },
  {
   "cell_type": "code",
   "execution_count": 45,
   "id": "fa09c3c3",
   "metadata": {},
   "outputs": [],
   "source": [
    "# Ordenando o Resultado\n",
    "df_genero_ratings = df_genero_ratings.sort_values(by = 'rating', ascending = False)"
   ]
  },
  {
   "cell_type": "markdown",
   "id": "eaf884b2",
   "metadata": {},
   "source": [
    "### Visualização em Gráfico"
   ]
  },
  {
   "cell_type": "code",
   "execution_count": 46,
   "id": "b51bd384",
   "metadata": {},
   "outputs": [
    {
     "data": {
      "image/png": "[encoded data removed]",
      "text/plain": [
       "<Figure size 1152x720 with 1 Axes>"
      ]
     },
     "metadata": {},
     "output_type": "display_data"
    }
   ],
   "source": [
    "# Plot\n",
    "\n",
    "# Figura\n",
    "plt.figure(figsize = (16,10))\n",
    "\n",
    "# Barplot\n",
    "sns.barplot(y = df_genero_ratings.genres, x = df_genero_ratings.rating, orient = \"h\")\n",
    "\n",
    "# Textos do gráfico\n",
    "for i in range(len(df_genero_ratings.index)):\n",
    "    \n",
    "    plt.text(4.0, \n",
    "             i + 0.25, \n",
    "             str(df_genero_ratings['count'][df_genero_ratings.index[i]]) + \" filmes\")\n",
    "    \n",
    "    plt.text(df_genero_ratings.rating[df_genero_ratings.index[i]],\n",
    "             i + 0.25,\n",
    "             round(df_genero_ratings[\"rating\"][df_genero_ratings.index[i]],2))\n",
    "\n",
    "plt.ylabel('Gênero')             \n",
    "plt.xlabel('Mediana da Avaliação')\n",
    "plt.title('\\nMediana de Avaliação Por Gênero\\n')\n",
    "plt.show()"
   ]
  }
 ],
 "metadata": {
  "kernelspec": {
   "display_name": "Python 3 (ipykernel)",
   "language": "python",
   "name": "python3"
  },
  "language_info": {
   "codemirror_mode": {
    "name": "ipython",
    "version": 3
   },
   "file_extension": ".py",
   "mimetype": "text/x-python",
   "name": "python",
   "nbconvert_exporter": "python",
   "pygments_lexer": "ipython3",
   "version": "3.9.12"
  }
 },
 "nbformat": 4,
 "nbformat_minor": 5
}
